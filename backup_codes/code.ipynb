{
 "cells": [
  {
   "cell_type": "markdown",
   "id": "ff17b229",
   "metadata": {},
   "source": [
    "Overlay over live footage"
   ]
  },
  {
   "cell_type": "code",
   "execution_count": null,
   "id": "5169ee64",
   "metadata": {},
   "outputs": [
    {
     "name": "stdout",
     "output_type": "stream",
     "text": [
      "pygame 2.6.1 (SDL 2.28.4, Python 3.9.13)\n",
      "Hello from the pygame community. https://www.pygame.org/contribute.html\n"
     ]
    },
    {
     "ename": "error",
     "evalue": "display Surface quit",
     "output_type": "error",
     "traceback": [
      "\u001b[1;31m---------------------------------------------------------------------------\u001b[0m",
      "\u001b[1;31merror\u001b[0m                                     Traceback (most recent call last)",
      "Cell \u001b[1;32mIn[1], line 108\u001b[0m\n\u001b[0;32m    105\u001b[0m enemy_frame_rgb \u001b[38;5;241m=\u001b[39m cv2\u001b[38;5;241m.\u001b[39mcvtColor(enemy_frame, cv2\u001b[38;5;241m.\u001b[39mCOLOR_BGR2RGB)\n\u001b[0;32m    106\u001b[0m enemy_results \u001b[38;5;241m=\u001b[39m pose\u001b[38;5;241m.\u001b[39mprocess(enemy_frame_rgb)\n\u001b[1;32m--> 108\u001b[0m \u001b[43mscreen\u001b[49m\u001b[38;5;241;43m.\u001b[39;49m\u001b[43mfill\u001b[49m\u001b[43m(\u001b[49m\u001b[43m(\u001b[49m\u001b[38;5;241;43m0\u001b[39;49m\u001b[43m,\u001b[49m\u001b[43m \u001b[49m\u001b[38;5;241;43m0\u001b[39;49m\u001b[43m,\u001b[49m\u001b[43m \u001b[49m\u001b[38;5;241;43m0\u001b[39;49m\u001b[43m)\u001b[49m\u001b[43m)\u001b[49m\n\u001b[0;32m    109\u001b[0m player_head_pos \u001b[38;5;241m=\u001b[39m enemy_head_pos \u001b[38;5;241m=\u001b[39m \u001b[38;5;28;01mNone\u001b[39;00m\n\u001b[0;32m    111\u001b[0m \u001b[38;5;28;01mif\u001b[39;00m enemy_results\u001b[38;5;241m.\u001b[39mpose_landmarks:\n\u001b[0;32m    112\u001b[0m     \u001b[38;5;66;03m# # Player (right)\u001b[39;00m\n\u001b[0;32m    113\u001b[0m     \u001b[38;5;66;03m# draw_body_shapes_pygame(screen, player_results.pose_landmarks, shift_x_px=400, width=WIDTH, height=HEIGHT, color=(0, 128, 255))\u001b[39;00m\n\u001b[1;32m   (...)\u001b[0m\n\u001b[0;32m    118\u001b[0m \n\u001b[0;32m    119\u001b[0m     \u001b[38;5;66;03m# Enemy (left) - same pose but mirrored horizontally\u001b[39;00m\n",
      "\u001b[1;31merror\u001b[0m: display Surface quit"
     ]
    },
    {
     "ename": "",
     "evalue": "",
     "output_type": "error",
     "traceback": [
      "\u001b[1;31mThe Kernel crashed while executing code in the current cell or a previous cell. \n",
      "\u001b[1;31mPlease review the code in the cell(s) to identify a possible cause of the failure. \n",
      "\u001b[1;31mClick <a href='https://aka.ms/vscodeJupyterKernelCrash'>here</a> for more info. \n",
      "\u001b[1;31mView Jupyter <a href='command:jupyter.viewOutput'>log</a> for further details."
     ]
    }
   ],
   "source": [
    "import pygame\n",
    "import mediapipe as mp\n",
    "import numpy as np\n",
    "import cv2  # Only used to decode webcam frame, not to display\n",
    "from mediapipe.framework.formats import landmark_pb2\n",
    "\n",
    "# Init Pose\n",
    "mp_pose = mp.solutions.pose\n",
    "pose = mp_pose.Pose()\n",
    "\n",
    "# Webcam\n",
    "# player_feed = cv2.VideoCapture(0)\n",
    "# enemy feed\n",
    "enemy_feed = cv2.VideoCapture('enemy_m2.mp4')\n",
    "\n",
    "# Init Pygame\n",
    "pygame.init()\n",
    "WIDTH, HEIGHT = 1280, 480\n",
    "screen = pygame.display.set_mode((WIDTH, HEIGHT))\n",
    "pygame.display.set_caption(\"VIRTUAL BOXING SIMULATOR\")\n",
    "clock = pygame.time.Clock()\n",
    "#----------------------------------------------------------------------------------------------------------------\n",
    "# Function to draw body using Pygame\n",
    "def draw_body_shapes_pygame(surface, landmarks, shift_x_px, width, height, color):\n",
    "    def to_xy(lm):\n",
    "        return int((lm.x + shift_x_px / width) * width), int(lm.y * height)\n",
    "\n",
    "    lm = landmarks.landmark\n",
    "    def p(name): return to_xy(lm[mp_pose.PoseLandmark[name].value])\n",
    "\n",
    "    # Points\n",
    "    nose = p(\"NOSE\")\n",
    "    ls = p(\"LEFT_SHOULDER\")\n",
    "    rs = p(\"RIGHT_SHOULDER\")\n",
    "    le = p(\"LEFT_ELBOW\")\n",
    "    re = p(\"RIGHT_ELBOW\")\n",
    "    lw = p(\"LEFT_WRIST\")\n",
    "    rw = p(\"RIGHT_WRIST\")\n",
    "    lh = p(\"LEFT_HIP\")\n",
    "    rh = p(\"RIGHT_HIP\")\n",
    "    lk = p(\"LEFT_KNEE\")\n",
    "    rk = p(\"RIGHT_KNEE\")\n",
    "    la = p(\"LEFT_ANKLE\")\n",
    "    ra = p(\"RIGHT_ANKLE\")\n",
    "\n",
    "    # Head\n",
    "    pygame.draw.circle(surface, color, nose, 20)\n",
    "\n",
    "    # Torso\n",
    "    torso_pts = [ls, rs, rh, lh]\n",
    "    pygame.draw.polygon(surface, color, torso_pts)\n",
    "\n",
    "    # Arms\n",
    "    pygame.draw.line(surface, color, ls, le, 10)\n",
    "    pygame.draw.line(surface, color, le, lw, 10)\n",
    "    pygame.draw.line(surface, color, rs, re, 10)\n",
    "    pygame.draw.line(surface, color, re, rw, 10)\n",
    "\n",
    "    # Legs\n",
    "    pygame.draw.line(surface, color, lh, lk, 12)\n",
    "    pygame.draw.line(surface, color, lk, la, 12)\n",
    "    pygame.draw.line(surface, color, rh, rk, 12)\n",
    "    pygame.draw.line(surface, color, rk, ra, 12)\n",
    "\n",
    "    # Feet\n",
    "    pygame.draw.circle(surface, color, la, 8)\n",
    "    pygame.draw.circle(surface, color, ra, 8)\n",
    "#----------------------------------------------------------------------------------------------------------------\n",
    "def get_keypoints_xy(landmarks, shift_x_px, width, height):\n",
    "    def to_pixel_coords(lm):\n",
    "        x = int((lm.x + shift_x_px / width) * width)\n",
    "        y = int(lm.y * height)\n",
    "        return x, y\n",
    "\n",
    "    lm = landmarks.landmark\n",
    "    return {\n",
    "        \"head\": to_pixel_coords(lm[mp_pose.PoseLandmark.NOSE]),\n",
    "        \"left_fist\": to_pixel_coords(lm[mp_pose.PoseLandmark.LEFT_WRIST]),\n",
    "        \"right_fist\": to_pixel_coords(lm[mp_pose.PoseLandmark.RIGHT_WRIST])\n",
    "    }\n",
    "#----------------------------------------------------------------------------------------------------------------\n",
    "def is_hit(p1, p2, threshold=30):\n",
    "    return np.linalg.norm(np.array(p1) - np.array(p2)) < threshold\n",
    "#----------------------------------------------------------------------------------------------------------------\n",
    "# Main loop\n",
    "while True:\n",
    "    # Handle quit\n",
    "    for event in pygame.event.get():\n",
    "        if event.type == pygame.QUIT:\n",
    "            # player_feed.release()\n",
    "            pygame.quit()\n",
    "            exit()\n",
    "\n",
    "    # ret, player_frame = player_feed.read()\n",
    "    ret, enemy_frame = enemy_feed.read()\n",
    "    if not ret:     #Loop the enemy feed video\n",
    "        enemy_feed.set(cv2.CAP_PROP_POS_FRAMES, 0)\n",
    "        continue\n",
    "\n",
    "    # player_frame = cv2.flip(player_frame, 1)\n",
    "    # player_frame_rgb = cv2.cvtColor(player_frame, cv2.COLOR_BGR2RGB)\n",
    "    # player_results = pose.process(player_frame_rgb)\n",
    "\n",
    "    enemy_frame = cv2.flip(enemy_frame, 1)\n",
    "    enemy_frame_rgb = cv2.cvtColor(enemy_frame, cv2.COLOR_BGR2RGB)\n",
    "    enemy_results = pose.process(enemy_frame_rgb)\n",
    "\n",
    "    screen.fill((0, 0, 0))\n",
    "    player_head_pos = enemy_head_pos = None\n",
    "\n",
    "    if enemy_results.pose_landmarks:\n",
    "        # # Player (right)\n",
    "        # draw_body_shapes_pygame(screen, player_results.pose_landmarks, shift_x_px=400, width=WIDTH, height=HEIGHT, color=(0, 128, 255))\n",
    "        # points_player = get_keypoints_xy(player_results.pose_landmarks, shift_x_px=400, width=WIDTH, height=HEIGHT)\n",
    "        # player_head_pos = points_player[\"head\"]\n",
    "        # player_fist1 = points_player[\"left_fist\"]\n",
    "        # player_fist2 = points_player[\"right_fist\"]\n",
    "\n",
    "        # Enemy (left) - same pose but mirrored horizontally\n",
    "        draw_body_shapes_pygame(screen, enemy_results.pose_landmarks, shift_x_px=0, width=WIDTH, height=HEIGHT, color=(255, 0, 0))\n",
    "        points_enemy = get_keypoints_xy(enemy_results.pose_landmarks, shift_x_px=0, width=WIDTH, height=HEIGHT)\n",
    "        enemy_head_pos = points_enemy[\"head\"]\n",
    "        enemy_fist1 = points_enemy[\"left_fist\"]\n",
    "        enemy_fist2 = points_enemy[\"right_fist\"]\n",
    "\n",
    "        # Hit detection\n",
    "        # for ef in [enemy_fist1, enemy_fist2]:\n",
    "        #     if is_hit(ef, player_head_pos):\n",
    "        #         print(\"Player Hit!\")\n",
    "\n",
    "        # for pf in [player_fist1, player_fist2]:\n",
    "        #     if is_hit(pf, enemy_head_pos):\n",
    "        #         print(\"Enemy Hit!\")\n",
    "\n",
    "    pygame.display.update()\n",
    "    clock.tick(30)\n"
   ]
  },
  {
   "cell_type": "code",
   "execution_count": null,
   "id": "bf828f8b",
   "metadata": {},
   "outputs": [
    {
     "name": "stdout",
     "output_type": "stream",
     "text": [
      "Collecting pyautoguiNote: you may need to restart the kernel to use updated packages.\n",
      "\n",
      "  Using cached pyautogui-0.9.54-py3-none-any.whl\n",
      "Collecting pyscreeze>=0.1.21\n",
      "  Using cached pyscreeze-1.0.1-py3-none-any.whl\n",
      "Collecting pygetwindow>=0.0.5\n",
      "  Using cached PyGetWindow-0.0.9-py3-none-any.whl\n",
      "Collecting pytweening>=1.0.4\n",
      "  Using cached pytweening-1.2.0-py3-none-any.whl\n",
      "Collecting mouseinfo\n",
      "  Using cached MouseInfo-0.1.3-py3-none-any.whl\n",
      "Collecting pymsgbox\n",
      "  Using cached pymsgbox-1.0.9-py3-none-any.whl\n",
      "Collecting pyrect\n",
      "  Using cached PyRect-0.2.0-py2.py3-none-any.whl\n",
      "Requirement already satisfied: Pillow>=9.2.0 in c:\\users\\arunr\\appdata\\local\\programs\\python\\python39\\lib\\site-packages (from pyscreeze>=0.1.21->pyautogui) (11.3.0)\n",
      "Collecting pyperclip\n",
      "  Using cached pyperclip-1.9.0-py3-none-any.whl\n",
      "Installing collected packages: pytweening, pyrect, pyperclip, pymsgbox, pyscreeze, pygetwindow, mouseinfo, pyautogui\n",
      "Successfully installed mouseinfo-0.1.3 pyautogui-0.9.54 pygetwindow-0.0.9 pymsgbox-1.0.9 pyperclip-1.9.0 pyrect-0.2.0 pyscreeze-1.0.1 pytweening-1.2.0\n"
     ]
    },
    {
     "name": "stderr",
     "output_type": "stream",
     "text": [
      "WARNING: You are using pip version 22.0.4; however, version 25.1.1 is available.\n",
      "You should consider upgrading via the 'c:\\Users\\arunr\\AppData\\Local\\Programs\\Python\\Python39\\python.exe -m pip install --upgrade pip' command.\n"
     ]
    }
   ],
   "source": [
    "# pip install pyautogui"
   ]
  },
  {
   "cell_type": "code",
   "execution_count": 2,
   "id": "5060addc",
   "metadata": {},
   "outputs": [
    {
     "name": "stdout",
     "output_type": "stream",
     "text": [
      "Requirement already satisfied: pygame in c:\\users\\arunr\\appdata\\local\\programs\\python\\python39\\lib\\site-packages (2.6.1)\n",
      "Collecting moviepy\n",
      "  Downloading moviepy-2.2.1-py3-none-any.whl (129 kB)\n",
      "     -------------------------------------- 129.9/129.9 KB 1.3 MB/s eta 0:00:00\n",
      "Collecting imageio_ffmpeg>=0.2.0\n",
      "  Downloading imageio_ffmpeg-0.6.0-py3-none-win_amd64.whl (31.2 MB)\n",
      "     ---------------------------------------- 31.2/31.2 MB 6.2 MB/s eta 0:00:00\n",
      "Collecting proglog<=1.0.0\n",
      "  Downloading proglog-0.1.12-py3-none-any.whl (6.3 kB)\n",
      "Requirement already satisfied: imageio<3.0,>=2.5 in c:\\users\\arunr\\appdata\\local\\programs\\python\\python39\\lib\\site-packages (from moviepy) (2.37.0)\n",
      "Requirement already satisfied: numpy>=1.25.0 in c:\\users\\arunr\\appdata\\local\\programs\\python\\python39\\lib\\site-packages (from moviepy) (2.0.2)\n",
      "Requirement already satisfied: pillow<12.0,>=9.2.0 in c:\\users\\arunr\\appdata\\local\\programs\\python\\python39\\lib\\site-packages (from moviepy) (11.3.0)\n",
      "Requirement already satisfied: decorator<6.0,>=4.0.2 in c:\\users\\arunr\\appdata\\roaming\\python\\python39\\site-packages (from moviepy) (5.2.1)\n",
      "Collecting python-dotenv>=0.10\n",
      "  Downloading python_dotenv-1.1.1-py3-none-any.whl (20 kB)\n",
      "Requirement already satisfied: tqdm in c:\\users\\arunr\\appdata\\local\\programs\\python\\python39\\lib\\site-packages (from proglog<=1.0.0->moviepy) (4.67.1)\n",
      "Requirement already satisfied: colorama in c:\\users\\arunr\\appdata\\roaming\\python\\python39\\site-packages (from tqdm->proglog<=1.0.0->moviepy) (0.4.6)\n",
      "Installing collected packages: python-dotenv, imageio_ffmpeg, proglog, moviepy\n",
      "Successfully installed imageio_ffmpeg-0.6.0 moviepy-2.2.1 proglog-0.1.12 python-dotenv-1.1.1\n",
      "Note: you may need to restart the kernel to use updated packages.\n"
     ]
    },
    {
     "name": "stderr",
     "output_type": "stream",
     "text": [
      "  WARNING: The script dotenv.exe is installed in 'c:\\Users\\arunr\\AppData\\Local\\Programs\\Python\\Python39\\Scripts' which is not on PATH.\n",
      "  Consider adding this directory to PATH or, if you prefer to suppress this warning, use --no-warn-script-location.\n",
      "WARNING: You are using pip version 22.0.4; however, version 25.1.1 is available.\n",
      "You should consider upgrading via the 'c:\\Users\\arunr\\AppData\\Local\\Programs\\Python\\Python39\\python.exe -m pip install --upgrade pip' command.\n"
     ]
    }
   ],
   "source": [
    "# pip install pygame moviepy"
   ]
  },
  {
   "cell_type": "code",
   "execution_count": 1,
   "id": "c79f1520",
   "metadata": {},
   "outputs": [
    {
     "name": "stdout",
     "output_type": "stream",
     "text": [
      "Collecting playsound\n",
      "  Downloading playsound-1.3.0.tar.gz (7.7 kB)\n",
      "  Preparing metadata (setup.py): started\n",
      "  Preparing metadata (setup.py): finished with status 'done'\n",
      "Building wheels for collected packages: playsound\n",
      "  Building wheel for playsound (setup.py): started\n",
      "  Building wheel for playsound (setup.py): finished with status 'done'\n",
      "  Created wheel for playsound: filename=playsound-1.3.0-py3-none-any.whl size=7059 sha256=1962b8165a9328354e5a4d7f3d69b04f8b05f0db859aa6cdb88a8c71d21986de\n",
      "  Stored in directory: c:\\users\\arunr\\appdata\\local\\pip\\cache\\wheels\\ba\\39\\54\\c8f7ff9a88a644d3c58b4dec802d90b79a2e0fb2a6b884bf82\n",
      "Successfully built playsound\n",
      "Installing collected packages: playsound\n",
      "Successfully installed playsound-1.3.0\n",
      "Note: you may need to restart the kernel to use updated packages.\n"
     ]
    },
    {
     "name": "stderr",
     "output_type": "stream",
     "text": [
      "WARNING: You are using pip version 22.0.4; however, version 25.1.1 is available.\n",
      "You should consider upgrading via the 'c:\\Users\\arunr\\AppData\\Local\\Programs\\Python\\Python39\\python.exe -m pip install --upgrade pip' command.\n"
     ]
    }
   ],
   "source": [
    "pip install playsound"
   ]
  },
  {
   "cell_type": "code",
   "execution_count": null,
   "id": "2c85edd6",
   "metadata": {},
   "outputs": [],
   "source": []
  }
 ],
 "metadata": {
  "kernelspec": {
   "display_name": "Python 3",
   "language": "python",
   "name": "python3"
  },
  "language_info": {
   "codemirror_mode": {
    "name": "ipython",
    "version": 3
   },
   "file_extension": ".py",
   "mimetype": "text/x-python",
   "name": "python",
   "nbconvert_exporter": "python",
   "pygments_lexer": "ipython3",
   "version": "3.9.13"
  }
 },
 "nbformat": 4,
 "nbformat_minor": 5
}
